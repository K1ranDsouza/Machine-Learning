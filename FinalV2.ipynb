{
 "cells": [
  {
   "attachments": {},
   "cell_type": "markdown",
   "metadata": {},
   "source": [
    "Kiran Dsouza\n",
    "Final Project \n",
    "Scores:\n",
    "Cutoff 1   0.71415\n",
    "Cutoff 2   0.81883\n",
    "Cutoff 3   0.83650\n",
    "Cutoff 4   0.81663\n",
    "Multiclass 0.54500"
   ]
  },
  {
   "cell_type": "code",
   "execution_count": 1,
   "metadata": {},
   "outputs": [
    {
     "name": "stdout",
     "output_type": "stream",
     "text": [
      "headers =  ['overall' 'verified' 'reviewTime' 'reviewerID' 'asin' 'reviewerName'\n",
      " 'reviewText' 'summary' 'unixReviewTime' 'vote' 'image' 'style' 'category']\n"
     ]
    }
   ],
   "source": [
    "# Basic imports, load test and training data \n",
    "\n",
    "import numpy as np\n",
    "import matplotlib.pyplot as plt\n",
    "import sys\n",
    "%matplotlib inline\n",
    "import pandas as pd\n",
    "\n",
    "# Load test and training data \n",
    "\n",
    "dftrain = pd.read_csv(\"Training.csv\", header = 0, encoding='utf-8')\n",
    "dftest = pd.read_csv(\"Test.csv\", header=0, encoding='utf-8')\n",
    "\n",
    "# put the original column names in a python list\n",
    "print(\"headers = \", dftrain.columns.values)"
   ]
  },
  {
   "attachments": {},
   "cell_type": "markdown",
   "metadata": {},
   "source": [
    "A big part of the project was to clean up the data and encode in numerical format.  I also did not use some of the features because my experiments showed the results were worse if I included them.  "
   ]
  },
  {
   "cell_type": "code",
   "execution_count": 2,
   "metadata": {},
   "outputs": [],
   "source": [
    "# Data cleanup\n",
    "# Assign encoding to non-numeric features we want to use other than reviewText and summary\n",
    "# Fill in missing values\n",
    "# Re-encode image and style as booleans\n",
    "\n",
    "from sklearn import preprocessing\n",
    "\n",
    "# get combined training/test data for encoding\n",
    "dfc = pd.concat([dftrain.drop('overall', axis='columns'), dftest])\n",
    "\n",
    "# set up encoders\n",
    "enc_rid = preprocessing.LabelEncoder().fit(dfc['reviewerID'])\n",
    "enc_cat = preprocessing.LabelEncoder().fit(dfc['category'])\n",
    "enc_asin = preprocessing.LabelEncoder().fit(dfc['asin'])\n",
    "enc_verif = preprocessing.LabelEncoder().fit(dfc['verified'])\n",
    "enc_rn = preprocessing.LabelEncoder().fit(dfc['reviewerName'])\n",
    "\n",
    "def basicDataCleanup(df):\n",
    "    # Assign numeric values to nonnumeric data\n",
    "    df['reviewerID'] = enc_rid.transform(df['reviewerID'])\n",
    "    df['category'] = enc_cat.transform(df['category'])\n",
    "    df['asin'] = enc_asin.transform(df['asin'])\n",
    "    df['verified'] = enc_verif.transform(df['verified'])\n",
    "    df['reviewerName'] = enc_rn.transform(df['reviewerName'])\n",
    "    # Votes has missing values there are no votes. Set missing votes to 0\n",
    "    df['vote'] = df['vote'].fillna(0)\n",
    "    # for image, use 0-1 encoding - we only want to know if there is an image (1) or not (0)\n",
    "    df['image'] = np.where(df['image'].isnull(),0,1)\n",
    "    df['style'] = np.where(df['style'].isnull(),0,1)\n",
    "    df['summary'] = df['summary'].fillna('')\n",
    "    df['reviewText'] = df['reviewText'].fillna('')\n",
    "    \n",
    "\n",
    "# do basic data cleanup for training set and test set\n",
    "basicDataCleanup(dftrain) \n",
    "basicDataCleanup(dftest)\n"
   ]
  },
  {
   "attachments": {},
   "cell_type": "markdown",
   "metadata": {},
   "source": [
    "I used the TfidfVectorizer to handle the text in the review summary and the review text. I used a 300 word limit for summary and a 1200 word limit for review text. I also limited myself to alphabetic words (no digits). "
   ]
  },
  {
   "cell_type": "code",
   "execution_count": 3,
   "metadata": {},
   "outputs": [
    {
     "name": "stdout",
     "output_type": "stream",
     "text": [
      "Vocabulary for summary\n",
      "['about' 'advertised' 'after' 'again' 'album' 'all' 'am' 'amazing'\n",
      " 'amazon' 'an' 'and' 'another' 'any' 'are' 'as' 'at' 'awesome' 'awful'\n",
      " 'back' 'bad' 'bag' 'band' 'battery' 'be' 'beautiful' 'because' 'been'\n",
      " 'before' 'best' 'better' 'beware' 'big' 'bit' 'bought' 'box' 'bright'\n",
      " 'broke' 'but' 'buy' 'by' 'came' 'can' 'car' 'case' 'cd' 'charger' 'cheap'\n",
      " 'classic' 'coffee' 'color' 'cool' 'could' 'cover' 'cute' 'day' 'decent'\n",
      " 'delicious' 'design' 'did' 'didn' 'different' 'disappointed'\n",
      " 'disappointing' 'disappointment' 'do' 'does' 'doesn' 'don' 'dont' 'down'\n",
      " 'durable' 'easily' 'easy' 'enough' 'even' 'ever' 'excellent' 'expected'\n",
      " 'expensive' 'fan' 'far' 'fast' 'favorite' 'feel' 'few' 'fine' 'first'\n",
      " 'fit' 'fits' 'five' 'flavor' 'flimsy' 'for' 'four' 'from' 'fun' 'game'\n",
      " 'garbage' 'get' 'gift' 'go' 'good' 'got' 'great' 'had' 'happy' 'hard'\n",
      " 'has' 'have' 'he' 'heavy' 'her' 'here' 'high' 'his' 'horrible' 'how'\n",
      " 'idea' 'if' 'in' 'install' 'iphone' 'is' 'isn' 'it' 'item' 'its' 'job'\n",
      " 'junk' 'just' 'keep' 'kids' 'know' 'last' 'less' 'light' 'lights' 'like'\n",
      " 'little' 'long' 'look' 'looking' 'looks' 'lot' 'love' 'loved' 'low'\n",
      " 'made' 'make' 'makes' 'many' 'me' 'meh' 'metal' 'money' 'months' 'more'\n",
      " 'most' 'much' 'music' 'must' 'my' 'need' 'needs' 'never' 'new' 'nice'\n",
      " 'no' 'not' 'nothing' 'now' 'of' 'off' 'ok' 'okay' 'old' 'on' 'one' 'only'\n",
      " 'or' 'original' 'other' 'our' 'out' 'over' 'part' 'pay' 'perfect' 'phone'\n",
      " 'piece' 'plastic' 'play' 'poor' 'pretty' 'price' 'product' 'protection'\n",
      " 'protector' 'purchase' 'put' 'quality' 'quite' 're' 'real' 'really'\n",
      " 'recommend' 'replacement' 'review' 'right' 'rock' 'same' 'say' 'screen'\n",
      " 'see' 'seems' 'set' 'she' 'short' 'should' 'size' 'small' 'so' 'solid'\n",
      " 'some' 'something' 'son' 'songs' 'sound' 'star' 'stars' 'still' 'strong'\n",
      " 'stuff' 'sturdy' 'super' 'sure' 'sweet' 'taste' 'tastes' 'tasty' 'tea'\n",
      " 'terrible' 'than' 'that' 'the' 'their' 'them' 'then' 'there' 'these'\n",
      " 'they' 'thin' 'thing' 'think' 'this' 'though' 'thought' 'three' 'time'\n",
      " 'to' 'too' 'toy' 'two' 'up' 'use' 'used' 'value' 've' 'very' 'want' 'was'\n",
      " 'waste' 'water' 'way' 'we' 'weak' 'well' 'were' 'what' 'when' 'where'\n",
      " 'while' 'who' 'why' 'will' 'wish' 'with' 'without' 'won' 'work' 'worked'\n",
      " 'working' 'works' 'worst' 'worth' 'would' 'wrong' 'year' 'you' 'your']\n",
      "Vocabulary for review text\n",
      "['able' 'about' 'above' ... 'young' 'your' 'yourself']\n"
     ]
    }
   ],
   "source": [
    "# vectorize the review summary and the review text for the training data\n",
    "\n",
    "# import the vectorizers needed for the summary and the the review\n",
    "from sklearn.feature_extraction.text import CountVectorizer\n",
    "from sklearn.feature_extraction.text import TfidfVectorizer\n",
    "from sklearn.feature_extraction.text import HashingVectorizer\n",
    "\n",
    "# cvec1 = CountVectorizer(max_features=7500,strip_accents='unicode', stop_words='english')\n",
    "# cvec1 = HashingVectorizer(n_features=2**4, strip_accents='unicode', stop_words='english')\n",
    "cvec1 = TfidfVectorizer(max_features=300, token_pattern=u'(?u)\\\\b[a-zA-Z\\\\.][a-zA-Z\\\\.]+\\\\b')\n",
    "\n",
    "# Include train and test vocabulary so we don't miss important words when vectorizing\n",
    "smtrain = dftrain['summary'].to_list()\n",
    "smtest  = dftest['summary'].to_list()\n",
    "cvec1.fit(smtrain + smtest)\n",
    "\n",
    "\n",
    "\n",
    "# Sanity checks : look at some of the vocabulatry and the transformed summary training data\n",
    "print('Vocabulary for summary')\n",
    "print(cvec1.get_feature_names_out())\n",
    "\n",
    "# vectorize the review text with same limit of 500 words\n",
    "# cvec2 = CountVectorizer(max_features=10000,strip_accents='unicode', stop_words='english')\n",
    "# cvec2 = HashingVectorizer(n_features=2**4, strip_accents='unicode', stop_words='english')\n",
    "cvec2 = TfidfVectorizer(max_features=1200, token_pattern=u'(?u)\\\\b[a-zA-Z\\\\.][a-zA-Z\\\\.]+\\\\b')\n",
    "\n",
    "# Include train and test vocabulary so we don't miss important words\n",
    "# and map raw data to strings to avoid non-string data causing an error\n",
    "rttrain = dftrain['reviewText'].to_list()\n",
    "rttest  = dftest['reviewText'].to_list()\n",
    "cvec2.fit(rttrain + rttest)\n",
    "\n",
    "# Sanity checks : look at some of the vocabulatry and the transformed summary training data\n",
    "print('Vocabulary for review text')\n",
    "print(cvec2.get_feature_names_out())"
   ]
  },
  {
   "attachments": {},
   "cell_type": "markdown",
   "metadata": {},
   "source": [
    "Some utilities to set up the feature matrix in numpy. The only routine borrowed fully from stack overflow was using_nonzero."
   ]
  },
  {
   "cell_type": "code",
   "execution_count": 4,
   "metadata": {},
   "outputs": [
    {
     "name": "stdout",
     "output_type": "stream",
     "text": [
      "type =  <class 'numpy.ndarray'>\n",
      "shape =  (29189,)\n",
      "0    1\n",
      "1    1\n",
      "2    1\n",
      "Name: category, dtype: int64\n",
      "type =  <class 'numpy.ndarray'>\n",
      "shape =  (2, 29189)\n",
      "0    0\n",
      "1    1\n",
      "2    1\n",
      "Name: verified, dtype: int64\n",
      "type =  <class 'numpy.ndarray'>\n",
      "shape =  (3, 29189)\n",
      "0     9073\n",
      "1     1407\n",
      "2    17141\n",
      "Name: asin, dtype: int64\n",
      "type =  <class 'numpy.ndarray'>\n",
      "shape =  (4, 29189)\n",
      "0    0\n",
      "1    0\n",
      "2    0\n",
      "Name: image, dtype: int64\n",
      "type =  <class 'numpy.ndarray'>\n",
      "shape =  (5, 29189)\n",
      "0    1\n",
      "1    0\n",
      "2    0\n",
      "Name: style, dtype: int64\n",
      "type =  <class 'numpy.ndarray'>\n",
      "shape =  (6, 29189)\n",
      "shape =  (29189, 6)\n",
      "(29189, 6)\n",
      "(29189, 306)\n",
      "(29189, 1506)\n",
      "type =  <class 'numpy.ndarray'>\n",
      "shape =  (4500,)\n",
      "0    1\n",
      "1    1\n",
      "2    1\n",
      "Name: category, dtype: int64\n",
      "type =  <class 'numpy.ndarray'>\n",
      "shape =  (2, 4500)\n",
      "0    1\n",
      "1    1\n",
      "2    1\n",
      "Name: verified, dtype: int64\n",
      "type =  <class 'numpy.ndarray'>\n",
      "shape =  (3, 4500)\n",
      "0     4663\n",
      "1     7263\n",
      "2    27003\n",
      "Name: asin, dtype: int64\n",
      "type =  <class 'numpy.ndarray'>\n",
      "shape =  (4, 4500)\n",
      "0    0\n",
      "1    0\n",
      "2    0\n",
      "Name: image, dtype: int64\n",
      "type =  <class 'numpy.ndarray'>\n",
      "shape =  (5, 4500)\n",
      "0    0\n",
      "1    0\n",
      "2    0\n",
      "Name: style, dtype: int64\n",
      "type =  <class 'numpy.ndarray'>\n",
      "shape =  (6, 4500)\n",
      "shape =  (4500, 6)\n",
      "(4500, 6)\n",
      "(4500, 306)\n",
      "(4500, 1506)\n"
     ]
    }
   ],
   "source": [
    "# Utilities to construct numpy feature matrix to use for training and for inference on test data\n",
    "\n",
    "# This using_nonzero utility is from StackOverflow\n",
    "def using_nonzero(x):\n",
    "    z = []\n",
    "    rows,cols = x.nonzero()\n",
    "    for row,col in zip(rows,cols):\n",
    "        z.append([row,col,x[row,col]])\n",
    "    return z\n",
    "\n",
    "# Utility to convert a sparse array from vectorizer to dense numpy array\n",
    "def convertVectorizedText(vt):\n",
    "    # get indices and values from sparse matrix vt\n",
    "    idxvals = using_nonzero(vt)\n",
    "    # allocate a numpy matrix to hold the data from vt, initialized to 0\n",
    "    res = np.zeros(vt.shape)\n",
    "    # update all non-zero values in the numpy matrix\n",
    "    for [i,j,v] in idxvals:\n",
    "        res[i,j] = v\n",
    "    return res\n",
    "\n",
    "# Utility to create training matrix for nonvectorized data we will use from dataframe df\n",
    "def createFeatureMatrix(df):\n",
    "    X = df['vote'].to_numpy()\n",
    "    print(\"type = \", type(X))\n",
    "    print(\"shape = \", X.shape) \n",
    "\n",
    "    # for f in ['category', 'verified',  'reviewerID', 'asin', 'image', 'style']:\n",
    "    # for f in ['category', 'verified', 'reviewerID', 'asin', 'image', 'unixReviewTime', 'style']:\n",
    "    #for f in ['category', 'verified', 'reviewerID', 'asin', 'image', 'unixReviewTime', 'style', 'reviewerName']:\n",
    "    for f in ['category', 'verified', 'asin', 'image', 'style']:\n",
    "        X = np.vstack((X, df[f].to_numpy()))\n",
    "        print(df[f][0:3])\n",
    "        print(\"type = \", type(X))\n",
    "        print(\"shape = \", X.shape) \n",
    "\n",
    "    # make each feature a column\n",
    "    X = X.T\n",
    "    print(\"shape = \", X.shape)\n",
    "    return X\n",
    "\n",
    "\n",
    "\n",
    "\n",
    "# Construct feature matrices for training data and test data by assembling selected features for \n",
    "# classification\n",
    "\n",
    "X = createFeatureMatrix(dftrain)\n",
    "\n",
    "# Extend training matrix X with the vectorized text data as additional columns\n",
    "\n",
    "# Use combined vocabulary to transform the summary training data\n",
    "v1 = cvec1.transform(smtrain)\n",
    "d1 = convertVectorizedText(v1)\n",
    "# Use combined vocabulary to transform the review text training data\n",
    "v2 = cvec2.transform(rttrain)\n",
    "d2 = convertVectorizedText(v2)\n",
    "\n",
    "# we print the shape to monitor how many columns are added\n",
    "print(X.shape)\n",
    "X = np.hstack((X, d1))\n",
    "print(X.shape)\n",
    "X = np.hstack((X, d2))\n",
    "print(X.shape)\n",
    "\n",
    "# correponding y label values for X\n",
    "y = dftrain['overall'].to_numpy()\n",
    "\n",
    "# Construct feature matrix for test data similarly to how we did it for the training data\n",
    "\n",
    "# Construct feature matrix with all the cleaned up basic (non vectorized) test data\n",
    "X_test = createFeatureMatrix(dftest)\n",
    "\n",
    "v1 = cvec1.transform(smtest)\n",
    "d1 = convertVectorizedText(v1)\n",
    "\n",
    "v2 = cvec2.transform(rttest)\n",
    "d2 = convertVectorizedText(v2)\n",
    "\n",
    "# Extend X_test with the vectorized text test data as additional columns\n",
    "\n",
    "# we print the shape to monitor how many columns are added\n",
    "print(X_test.shape)\n",
    "X_test = np.hstack((X_test, d1))\n",
    "print(X_test.shape)\n",
    "X_test = np.hstack((X_test, d2))\n",
    "print(X_test.shape)"
   ]
  },
  {
   "attachments": {},
   "cell_type": "markdown",
   "metadata": {},
   "source": [
    "Split the training data into a training and validate set.  Define some utilities to use in the rest of the project to run and score classifiers, and to generate submission files for kaggle."
   ]
  },
  {
   "cell_type": "code",
   "execution_count": 59,
   "metadata": {},
   "outputs": [
    {
     "name": "stdout",
     "output_type": "stream",
     "text": [
      "(23351, 1506) (5838, 1506) (23351,) (5838,)\n"
     ]
    }
   ],
   "source": [
    "# Set up for running classifiers\n",
    "\n",
    "from sklearn.naive_bayes import MultinomialNB\n",
    "from sklearn.naive_bayes import GaussianNB\n",
    "from sklearn.linear_model import LogisticRegression\n",
    "from sklearn.neighbors import KNeighborsClassifier\n",
    "from sklearn.ensemble import AdaBoostClassifier\n",
    "from sklearn.ensemble import RandomForestClassifier\n",
    "\n",
    "import sklearn.metrics\n",
    "from sklearn.metrics import confusion_matrix, classification_report\n",
    "from sklearn import svm\n",
    "from sklearn.model_selection import cross_val_score\n",
    "from sklearn.pipeline import make_pipeline\n",
    "from sklearn.preprocessing import StandardScaler\n",
    "# Split training data into train and validate sets for all Parts \n",
    "from sklearn.model_selection import train_test_split \n",
    "from sklearn.metrics import roc_curve\n",
    "from sklearn.metrics import roc_auc_score\n",
    "\n",
    "\n",
    "# screen is hard to read with future-warnings, so disable them\n",
    "import warnings\n",
    "warnings.filterwarnings(\"ignore\")\n",
    "\n",
    "\n",
    "X_train, X_validate, y_train, y_validate = train_test_split(X, y, test_size=0.20)\n",
    "print(X_train.shape, X_validate.shape, y_train.shape, y_validate.shape)\n",
    "\n",
    "# Return 0-1 vector from multivalued vector y based on cutoff c\n",
    "def applyCutoff(y, c):\n",
    "    return np.array([1 if x > c else 0 for x in y])\n",
    "\n",
    "# Utility to display spread between 0 and 1 for y, with given tag\n",
    "def reportSpread(tag, y):\n",
    "    print(tag, '\\t: #0:', list(y).count(0), ' #1:',list(y).count(1))\n",
    "\n",
    "\n",
    "# Utility to train a classifier clf on X_train using y_train for a given cutoff, and return predicted values for X_test\n",
    "def runClassifier(cutoff, clf, X_train, y_train, X_test):\n",
    "    ytrc = applyCutoff(y_train, cutoff)\n",
    "    # check labels we are training for\n",
    "    reportSpread('Training', ytrc)\n",
    "    clf.fit(X_train, ytrc)\n",
    "    yp = clf.predict(X_test)\n",
    "    return yp\n",
    "\n",
    "# generate a submission for Kaggle upload\n",
    "def genSubmission(cutoff, clf, X_train, y_train, X_test, tag):\n",
    "    print(\"Generating submission for: \", tag, \" with cutoff \", cutoff)\n",
    "    yp = runClassifier(cutoff, clf, X_train, y_train, X_test)\n",
    "    reportSpread('Predicted', yp)\n",
    "    print('1:', X_test.shape, ' 2:', len(yp))\n",
    "    ts = pd.DataFrame({'id': range(len(yp)), 'predicted': yp})\n",
    "    fname = 'kiran_'+tag+'_'+str(cutoff)+'.csv'\n",
    "    print(ts.shape)\n",
    "    ts.to_csv(fname, index=False)\n",
    "\n",
    "\n",
    "# Utility to train classifier and score it. Returns predicted values for X_test.\n",
    "def scoreClassifier(cutoff, clf, X_train, y_train, X_test, y_test):\n",
    "    yp = runClassifier(cutoff, clf, X_train, y_train, X_test)\n",
    "    reportSpread('Predicted', yp)\n",
    "    ytec = applyCutoff(y_test, cutoff)\n",
    "    reportSpread('Actual   ', ytec)\n",
    "    f1s = sklearn.metrics.f1_score(ytec, yp)\n",
    "    print('f1 score is ', f1s)\n",
    "    print('Confusion matrix: ')\n",
    "    print(confusion_matrix(ytec, yp))\n",
    "    print('Classification report')\n",
    "    print(classification_report(ytec, yp))\n",
    "    fpr, tpr, thresholds = roc_curve(ytec, yp)\n",
    "    plt.plot(fpr, label=\"fpr\")\n",
    "    plt.plot(tpr, label=\"tpr\")\n",
    "    plt.legend()\n",
    "    plt.show()\n",
    "    ras = roc_auc_score(ytec, yp)\n",
    "    print(\"roc auc score = \", ras)\n",
    "    return yp\n",
    "\n",
    "\n",
    "# n-fold Cross validation for Hyperparameter tuning using classifier clf\n",
    "def crossValidateClassifier(n, cutoff, clf, X_train, y_train):\n",
    "    ytrc = applyCutoff(y_train, cutoff)\n",
    "    scores = cross_val_score(clf, X_train, ytrc, cv=n)\n",
    "    return sum(scores)/len(scores)"
   ]
  },
  {
   "attachments": {},
   "cell_type": "markdown",
   "metadata": {},
   "source": [
    "The following code block implements the 5-fold cross-validation to identify the best classifier and hyperparameter combination. It takes hours to run on my laptop, so I have disabled it. The output from this code block is availabled in the file crossvalidation_all.txt"
   ]
  },
  {
   "cell_type": "code",
   "execution_count": 54,
   "metadata": {},
   "outputs": [],
   "source": [
    "# Part 1-4 : 5-fold cross validation for hyperparameter tuning\n",
    "\n",
    "# I used 4 classifiers and experimented with different hyperparameter settings for each\n",
    "\n",
    "enableAnalysis = False\n",
    "\n",
    "if enableAnalysis:\n",
    "        cutoffLimit = 5\n",
    "else:\n",
    "        cutoffLimit = 0\n",
    "        \n",
    "for i in range(1,cutoffLimit):\n",
    "    \n",
    "    # MULTINOMIAL NAIVE BAYES\n",
    "    clf = MultinomialNB()\n",
    "    print(\"Cutoff=\", i, \" MultinomialNB: \", crossValidateClassifier(5, i, clf, X, y))\n",
    "    clf = MultinomialNB(fit_prior=False)\n",
    "    print(\"Cutoff=\", i, \" MultinomialNB_uniform_prior: \", crossValidateClassifier(5, i, clf, X, y))\n",
    "    for j in [1, 0.5, 0.25, 0.125, 0.0625, 0.03125, 0.01, 0.001, 0.00001, 0]:\n",
    "        clf = MultinomialNB(alpha=j)\n",
    "        print(\"Cutoff=\", i, \" MultinomialNB_alpha_\" + str(j) + \": \", crossValidateClassifier(5, i, clf, X, y))\n",
    " \n",
    "    # RANDOM FOREST \n",
    "    for j in [50,75,100,125,150,175]:\n",
    "        clf = RandomForestClassifier(n_estimators = j)\n",
    "        print(\"Cutoff=\", i, \" RandomForest_\" + str(j) + \": \", crossValidateClassifier(5, i, clf, X, y))\n",
    "\n",
    "    # ADABOOST\n",
    "    for j in [50,75,100,125,150,175]:\n",
    "        clf = AdaBoostClassifier(n_estimators=j)\n",
    "        print(\"Cutoff=\", i, \" Adaboost_\" + str(j) + \": \", crossValidateClassifier(5, i, clf, X, y))\n",
    "  \n",
    "    # LOGISTIC REGRESSION\n",
    "    clf = LogisticRegression(max_iter=1000)\n",
    "    print(\"Cutoff=\", i, \" LogisticRegression: \", crossValidateClassifier(5, i, clf, X, y))\n",
    "    clf = LogisticRegression(solver='liblinear', random_state=42, max_iter=1000)\n",
    "    print(\"Cutoff=\", i, \" LogisticRegression_liblinear_42: \", crossValidateClassifier(5, i, clf, X, y))\n",
    "    \n",
    "    # gap between data for each cutoff\n",
    "    print(\"\\n\\n\\n\")\n"
   ]
  },
  {
   "attachments": {},
   "cell_type": "markdown",
   "metadata": {},
   "source": [
    "For cutoff 1, from looking at the results of the cross validation run (which are also available in the attached report), the winner was Adaboost with hyperparameter n_estimators set to 175.  I analyzed the performance of this classifier on the partitioned trainint set."
   ]
  },
  {
   "cell_type": "code",
   "execution_count": 61,
   "metadata": {},
   "outputs": [
    {
     "name": "stdout",
     "output_type": "stream",
     "text": [
      "Training \t: #0: 4744  #1: 18607\n",
      "Predicted \t: #0: 889  #1: 4949\n",
      "Actual    \t: #0: 1213  #1: 4625\n",
      "f1 score is  0.9116356799665761\n",
      "Confusion matrix: \n",
      "[[ 628  585]\n",
      " [ 261 4364]]\n",
      "Classification report\n",
      "              precision    recall  f1-score   support\n",
      "\n",
      "           0       0.71      0.52      0.60      1213\n",
      "           1       0.88      0.94      0.91      4625\n",
      "\n",
      "    accuracy                           0.86      5838\n",
      "   macro avg       0.79      0.73      0.75      5838\n",
      "weighted avg       0.85      0.86      0.85      5838\n",
      "\n"
     ]
    },
    {
     "data": {
      "image/png": "[encoded data removed]",
      "text/plain": [
       "<Figure size 640x480 with 1 Axes>"
      ]
     },
     "metadata": {},
     "output_type": "display_data"
    },
    {
     "name": "stdout",
     "output_type": "stream",
     "text": [
      "roc auc score =  0.7306461085982933\n"
     ]
    },
    {
     "data": {
      "text/plain": [
       "array([1, 0, 1, ..., 0, 1, 1])"
      ]
     },
     "execution_count": 61,
     "metadata": {},
     "output_type": "execute_result"
    }
   ],
   "source": [
    "# winning classifier from cross-validation for cutoff 1\n",
    "clf =  AdaBoostClassifier(n_estimators=175)\n",
    "scoreClassifier(1, clf, X_train, y_train, X_validate, y_validate)\n",
    "\n"
   ]
  },
  {
   "attachments": {},
   "cell_type": "markdown",
   "metadata": {},
   "source": [
    "Based on the analysis of cross-validation data, I picked RandomForest with hyperparameter n_estimators set to 150 to analyze further."
   ]
  },
  {
   "cell_type": "code",
   "execution_count": 62,
   "metadata": {},
   "outputs": [
    {
     "name": "stdout",
     "output_type": "stream",
     "text": [
      "Training \t: #0: 9519  #1: 13832\n",
      "Predicted \t: #0: 2033  #1: 3805\n",
      "Actual    \t: #0: 2397  #1: 3441\n",
      "f1 score is  0.8628208666850676\n",
      "Confusion matrix: \n",
      "[[1718  679]\n",
      " [ 315 3126]]\n",
      "Classification report\n",
      "              precision    recall  f1-score   support\n",
      "\n",
      "           0       0.85      0.72      0.78      2397\n",
      "           1       0.82      0.91      0.86      3441\n",
      "\n",
      "    accuracy                           0.83      5838\n",
      "   macro avg       0.83      0.81      0.82      5838\n",
      "weighted avg       0.83      0.83      0.83      5838\n",
      "\n"
     ]
    },
    {
     "data": {
      "image/png": "[encoded data removed]",
      "text/plain": [
       "<Figure size 640x480 with 1 Axes>"
      ]
     },
     "metadata": {},
     "output_type": "display_data"
    },
    {
     "name": "stdout",
     "output_type": "stream",
     "text": [
      "roc auc score =  0.81259304441508\n"
     ]
    },
    {
     "data": {
      "text/plain": [
       "array([0, 0, 1, ..., 0, 1, 1])"
      ]
     },
     "execution_count": 62,
     "metadata": {},
     "output_type": "execute_result"
    }
   ],
   "source": [
    "# winning classifier from cross-validation for cutoff 2\n",
    "clf =  RandomForestClassifier(n_estimators=150)\n",
    "scoreClassifier(2, clf, X_train, y_train, X_validate, y_validate)"
   ]
  },
  {
   "attachments": {},
   "cell_type": "markdown",
   "metadata": {},
   "source": [
    "Based on the analysis of cross-validation data, I picked Adaboost with hyperparameter n_estimators set to 175 to analyze further."
   ]
  },
  {
   "cell_type": "code",
   "execution_count": 64,
   "metadata": {},
   "outputs": [
    {
     "name": "stdout",
     "output_type": "stream",
     "text": [
      "Training \t: #0: 14213  #1: 9138\n",
      "Predicted \t: #0: 3636  #1: 2202\n",
      "Actual    \t: #0: 3565  #1: 2273\n",
      "f1 score is  0.7955307262569832\n",
      "Confusion matrix: \n",
      "[[3143  422]\n",
      " [ 493 1780]]\n",
      "Classification report\n",
      "              precision    recall  f1-score   support\n",
      "\n",
      "           0       0.86      0.88      0.87      3565\n",
      "           1       0.81      0.78      0.80      2273\n",
      "\n",
      "    accuracy                           0.84      5838\n",
      "   macro avg       0.84      0.83      0.83      5838\n",
      "weighted avg       0.84      0.84      0.84      5838\n",
      "\n"
     ]
    },
    {
     "data": {
      "image/png": "[encoded data removed]",
      "text/plain": [
       "<Figure size 640x480 with 1 Axes>"
      ]
     },
     "metadata": {},
     "output_type": "display_data"
    },
    {
     "name": "stdout",
     "output_type": "stream",
     "text": [
      "roc auc score =  0.8323664778739875\n"
     ]
    },
    {
     "data": {
      "text/plain": [
       "array([0, 0, 1, ..., 0, 0, 1])"
      ]
     },
     "execution_count": 64,
     "metadata": {},
     "output_type": "execute_result"
    }
   ],
   "source": [
    "# winning classifier from cross-validation for cutoff 3\n",
    "clf =  AdaBoostClassifier(n_estimators=175)\n",
    "scoreClassifier(3, clf, X_train, y_train, X_validate, y_validate)"
   ]
  },
  {
   "attachments": {},
   "cell_type": "markdown",
   "metadata": {},
   "source": [
    "Based on the cross-validation analysis data, I picked Adaboost with hyperparameter n_estimators set to 125 to analyzer further."
   ]
  },
  {
   "cell_type": "code",
   "execution_count": 65,
   "metadata": {},
   "outputs": [
    {
     "name": "stdout",
     "output_type": "stream",
     "text": [
      "Training \t: #0: 18815  #1: 4536\n",
      "Predicted \t: #0: 4973  #1: 865\n",
      "Actual    \t: #0: 4732  #1: 1106\n",
      "f1 score is  0.671740233384069\n",
      "Confusion matrix: \n",
      "[[4529  203]\n",
      " [ 444  662]]\n",
      "Classification report\n",
      "              precision    recall  f1-score   support\n",
      "\n",
      "           0       0.91      0.96      0.93      4732\n",
      "           1       0.77      0.60      0.67      1106\n",
      "\n",
      "    accuracy                           0.89      5838\n",
      "   macro avg       0.84      0.78      0.80      5838\n",
      "weighted avg       0.88      0.89      0.88      5838\n",
      "\n"
     ]
    },
    {
     "data": {
      "image/png": "[encoded data removed]",
      "text/plain": [
       "<Figure size 640x480 with 1 Axes>"
      ]
     },
     "metadata": {},
     "output_type": "display_data"
    },
    {
     "name": "stdout",
     "output_type": "stream",
     "text": [
      "roc auc score =  0.7778269685523824\n"
     ]
    },
    {
     "data": {
      "text/plain": [
       "array([0, 0, 1, ..., 0, 0, 0])"
      ]
     },
     "execution_count": 65,
     "metadata": {},
     "output_type": "execute_result"
    }
   ],
   "source": [
    "# winning classifier from cross-validation for cutoff 4\n",
    "clf =  AdaBoostClassifier(n_estimators=125)\n",
    "scoreClassifier(4, clf, X_train, y_train, X_validate, y_validate)"
   ]
  },
  {
   "cell_type": "code",
   "execution_count": null,
   "metadata": {},
   "outputs": [],
   "source": [
    "\n",
    "genSubmission(1, GaussianNB(), X, y, X_test, 'gaussianNB')\n",
    "genSubmission(1, MultinomialNB(alpha=0.00001), X, y, X_test, 'multinomialNB')\n",
    "# genSubmission(1, make_pipeline(StandardScaler(), svm.SVC()), X, y, X_test, 'SVM')\n",
    "### genSubmission(1, KNeighborsClassifier(n_neighbors=20), X, y, X_test, 'KNN20')\n",
    "# genSubmission(2, MultinomialNB(alpha=0.0001), X, y, X_test, 'MultinomialNB_alpha_0.0001')\n",
    "# genSubmission(2, make_pipeline(StandardScaler(), svm.SVC()), X, y, X_test, 'SVM')\n",
    "# genSubmission(3, MultinomialNB(), X, y, X_test, 'MultinomialNB')\n",
    "# genSubmission(3, GaussianNB(), X, y, X_test, 'GaussianNB')\n",
    "# genSubmission(3, LogisticRegression(solver='liblinear', random_state=42, max_iter=1000), X, y, X_test, 'LogisticRegression')\n",
    "# genSubmission(4, MultinomialNB(), X, y, X_test, 'MultinomialNB')\n",
    "# genSubmission(4, LogisticRegression(max_iter=1000), X, y, X_test, 'LogisticRegression')\n"
   ]
  },
  {
   "cell_type": "code",
   "execution_count": 35,
   "metadata": {},
   "outputs": [
    {
     "name": "stdout",
     "output_type": "stream",
     "text": [
      "Generating submission for:  AB175  with cutoff  4\n",
      "Training \t: #0: 23547  #1: 5642\n",
      "Predicted \t: #0: 3755  #1: 745\n",
      "1: (4500, 1506)  2: 4500\n",
      "(4500, 2)\n"
     ]
    }
   ],
   "source": [
    "from sklearn.ensemble import AdaBoostClassifier\n",
    "clf = AdaBoostClassifier(n_estimators=175)\n",
    "#scoreClassifier(4, clf, X_train, y_train, X_validate, y_validate)\n",
    "genSubmission(4, clf, X, y, X_test, 'AB175')"
   ]
  },
  {
   "cell_type": "code",
   "execution_count": 36,
   "metadata": {},
   "outputs": [
    {
     "name": "stdout",
     "output_type": "stream",
     "text": [
      "Generating submission for:  RF175  with cutoff  4\n",
      "Training \t: #0: 23547  #1: 5642\n",
      "Predicted \t: #0: 4010  #1: 490\n",
      "1: (4500, 1506)  2: 4500\n",
      "(4500, 2)\n"
     ]
    }
   ],
   "source": [
    "from sklearn.ensemble import RandomForestClassifier\n",
    "clf = RandomForestClassifier(n_estimators = 175)\n",
    "#scoreClassifier(4, clf, X_train, y_train, X_validate, y_validate)\n",
    "genSubmission(4, clf, X, y, X_test, 'RF175')"
   ]
  },
  {
   "attachments": {},
   "cell_type": "markdown",
   "metadata": {},
   "source": [
    "For the multiclass classification problem, we adapt the infrastructure above to not use the cutoff function. These are the NoCutoff variations. Also, the roc curve does not work for multiclass."
   ]
  },
  {
   "cell_type": "code",
   "execution_count": 78,
   "metadata": {},
   "outputs": [],
   "source": [
    "#Utility to train a classifier clf on X_train using y_train, and return predicted values for X_test\n",
    "def runClassifierNoCutoff(clf, X_train, y_train, X_test):\n",
    "    ytrc = y_train\n",
    "    # check labels we are training for\n",
    "    reportSpread('Training', ytrc)\n",
    "    clf.fit(X_train, ytrc)\n",
    "    yp = clf.predict(X_test)\n",
    "    return yp\n",
    "\n",
    "# generate a submission for Kaggle upload\n",
    "def genSubmissionNoCutoff(clf, X_train, y_train, X_test, tag):\n",
    "    yp = runClassifierNoCutoff(clf, X_train, y_train, X_test)\n",
    "    # reportSpread('Predicted', yp)\n",
    "    print('1:', X_test.shape, ' 2:', len(yp))\n",
    "    ts = pd.DataFrame({'id': range(len(yp)), 'predicted': yp})\n",
    "    fname = 'kiran_'+tag+'_no_cutoff'+'.csv'\n",
    "    print(ts.shape)\n",
    "    ts.to_csv(fname, index=False)\n",
    "\n",
    "\n",
    "# Utility to train classifier and score it. Returns predicted values for X_test.\n",
    "def scoreClassifierNoCutoff(clf, X_train, y_train, X_test, y_test):\n",
    "    yp = runClassifierNoCutoff(clf, X_train, y_train, X_test)\n",
    "    # reportSpread('Predicted', yp)\n",
    "    ytec = y_test\n",
    "    # reportSpread('Actual   ', ytec)\n",
    "    # f1s = sklearn.metrics.f1_score(ytec, yp)\n",
    "    # print('f1 score is ', f1s)\n",
    "    print('Confusion matrix: ')\n",
    "    print(confusion_matrix(ytec, yp))\n",
    "    print('Classification report')\n",
    "    print(classification_report(ytec, yp))\n",
    "    return yp\n",
    "\n",
    "\n",
    "# n-fold Cross validation for Hyperparameter tuning using classifier clf\n",
    "def crossValidateClassifierNoCutoff(n, clf, X_train, y_train):\n",
    "    ytrc = y_train\n",
    "    scores = cross_val_score(clf, X_train, ytrc, cv=n)\n",
    "    return sum(scores)/len(scores)\n"
   ]
  },
  {
   "cell_type": "code",
   "execution_count": 79,
   "metadata": {},
   "outputs": [
    {
     "name": "stdout",
     "output_type": "stream",
     "text": [
      "Training \t: #0: 0  #1: 4744\n",
      "Confusion matrix: \n",
      "[[806 227  96  40  44]\n",
      " [358 516 177  78  55]\n",
      " [152 202 572 180  62]\n",
      " [ 80 137 209 535 206]\n",
      " [ 72  69  55 160 750]]\n",
      "Classification report\n",
      "              precision    recall  f1-score   support\n",
      "\n",
      "           1       0.55      0.66      0.60      1213\n",
      "           2       0.45      0.44      0.44      1184\n",
      "           3       0.52      0.49      0.50      1168\n",
      "           4       0.54      0.46      0.50      1167\n",
      "           5       0.67      0.68      0.67      1106\n",
      "\n",
      "    accuracy                           0.54      5838\n",
      "   macro avg       0.54      0.55      0.54      5838\n",
      "weighted avg       0.54      0.54      0.54      5838\n",
      "\n",
      "Training \t: #0: 0  #1: 5957\n",
      "1: (4500, 1506)  2: 4500\n",
      "(4500, 2)\n"
     ]
    }
   ],
   "source": [
    "clf = RandomForestClassifier(n_estimators = 50)\n",
    "scoreClassifierNoCutoff(clf, X_train, y_train, X_validate, y_validate)\n",
    "genSubmissionNoCutoff(clf, X, y, X_test, 'RFC50')"
   ]
  },
  {
   "attachments": {},
   "cell_type": "markdown",
   "metadata": {},
   "source": [
    "CLUSTERING\n",
    "\n",
    "I combined the review and the summary text for the test data set to use in clustering with the TfidfVectorizer.  My result of 0.63 exceeded the baseline Silhouette score of 0.59. "
   ]
  },
  {
   "cell_type": "code",
   "execution_count": 70,
   "metadata": {},
   "outputs": [
    {
     "name": "stdout",
     "output_type": "stream",
     "text": [
      "automotive     750\n",
      "CDs            750\n",
      "grocery        750\n",
      "cell_phones    750\n",
      "sports         750\n",
      "toys           750\n",
      "Name: category, dtype: int64\n",
      "silhouette score =  0.6314114305384391\n",
      "clusters_ids= [0 1 2 3 4 5]\n",
      "cluster-sizes= [ 516  799 1603  607  469  506]\n"
     ]
    }
   ],
   "source": [
    "# Clustering code\n",
    "\n",
    "from sklearn import metrics\n",
    "\n",
    "dftest = pd.read_csv(\"Test.csv\", header=0, encoding='utf-8')\n",
    "\n",
    "# figure out how many clusters (6)\n",
    "print(dftest.category.value_counts())\n",
    "\n",
    "# cvec1 = CountVectorizer(max_features=7500,strip_accents='unicode', stop_words='english')\n",
    "# cvec1 = HashingVectorizer(n_features=2**4, strip_accents='unicode', stop_words='english')\n",
    "cvec1 = TfidfVectorizer(max_features=6, stop_words='english', strip_accents='unicode') \n",
    "                       # ,token_pattern=u'(?ui)\\\\b\\\\w*[a-z]+\\\\w*\\\\b')\n",
    "                       # , token_pattern=u'(?u)\\\\b[a-zA-Z\\\\.][a-zA-Z\\\\.]+\\\\b')\n",
    "\n",
    "dftest['cluster'] = dftest['summary'] + ' ' + dftest['reviewText']\n",
    "dftest['cluster'] = dftest['cluster'].fillna('')\n",
    "w = dftest['cluster'].to_list()\n",
    "cvec1.fit(w)\n",
    "\n",
    "# clustering\n",
    "v1 = cvec1.transform(w)\n",
    "d1 = convertVectorizedText(v1)\n",
    "\n",
    "\n",
    "# combine data from summary and review text\n",
    "X_cluster = d1\n",
    "\n",
    "# figure out how many clusters (6)\n",
    "# print(dftest.category.value_counts())\n",
    "\n",
    "from sklearn.cluster import MiniBatchKMeans\n",
    "from sklearn.cluster import KMeans\n",
    "\n",
    "# km = sklearn.neighbors.NearestNeighbors(n_neighbors=6);\n",
    "\n",
    "km = KMeans(n_clusters = 6, max_iter=10000, n_init=1, random_state = 0)\n",
    "# km = MiniBatchKMeans(n_clusters = 12, max_iter=10000, n_init=1, random_state = 0)\n",
    "# km = KMeans(n_clusters = 6, max_iter=10000, n_init=5, random_state = 0)\n",
    "# fit_and_evaluate(km, X_cluster, name=\"km_category\")\n",
    "\n",
    "km.fit(X_cluster)\n",
    "cluster_ids, cluster_sizes = np.unique(km.labels_, return_counts=True)\n",
    "\n",
    "print('silhouette score = ', metrics.silhouette_score(X_cluster, km.labels_))\n",
    "\n",
    "print('clusters_ids=', cluster_ids)\n",
    "\n",
    "print('cluster-sizes=', cluster_sizes)\n",
    "\n"
   ]
  }
 ],
 "metadata": {
  "kernelspec": {
   "display_name": "Python 3",
   "language": "python",
   "name": "python3"
  },
  "language_info": {
   "codemirror_mode": {
    "name": "ipython",
    "version": 3
   },
   "file_extension": ".py",
   "mimetype": "text/x-python",
   "name": "python",
   "nbconvert_exporter": "python",
   "pygments_lexer": "ipython3",
   "version": "3.9.13"
  },
  "orig_nbformat": 4,
  "vscode": {
   "interpreter": {
    "hash": "949777d72b0d2535278d3dc13498b2535136f6dfe0678499012e853ee9abcab1"
   }
  }
 },
 "nbformat": 4,
 "nbformat_minor": 2
}
